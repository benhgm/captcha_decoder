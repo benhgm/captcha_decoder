{
 "cells": [
  {
   "cell_type": "markdown",
   "metadata": {},
   "source": [
    "## Install Packages"
   ]
  },
  {
   "cell_type": "code",
   "execution_count": 1,
   "metadata": {},
   "outputs": [
    {
     "name": "stdout",
     "output_type": "stream",
     "text": [
      "Requirement already satisfied: pytesseract in /Users/benho/miniforge3/envs/tise/lib/python3.8/site-packages (0.3.10)\n",
      "Requirement already satisfied: packaging>=21.3 in /Users/benho/miniforge3/envs/tise/lib/python3.8/site-packages (from pytesseract) (23.2)\n",
      "Requirement already satisfied: Pillow>=8.0.0 in /Users/benho/miniforge3/envs/tise/lib/python3.8/site-packages (from pytesseract) (10.2.0)\n",
      "Requirement already satisfied: opencv-python in /Users/benho/miniforge3/envs/tise/lib/python3.8/site-packages (4.9.0.80)\n",
      "Requirement already satisfied: numpy>=1.21.0 in /Users/benho/miniforge3/envs/tise/lib/python3.8/site-packages (from opencv-python) (1.24.4)\n",
      "Requirement already satisfied: matplotlib in /Users/benho/miniforge3/envs/tise/lib/python3.8/site-packages (3.7.4)\n",
      "Requirement already satisfied: contourpy>=1.0.1 in /Users/benho/miniforge3/envs/tise/lib/python3.8/site-packages (from matplotlib) (1.1.1)\n",
      "Requirement already satisfied: cycler>=0.10 in /Users/benho/miniforge3/envs/tise/lib/python3.8/site-packages (from matplotlib) (0.12.1)\n",
      "Requirement already satisfied: fonttools>=4.22.0 in /Users/benho/miniforge3/envs/tise/lib/python3.8/site-packages (from matplotlib) (4.47.0)\n",
      "Requirement already satisfied: kiwisolver>=1.0.1 in /Users/benho/miniforge3/envs/tise/lib/python3.8/site-packages (from matplotlib) (1.4.5)\n",
      "Requirement already satisfied: numpy<2,>=1.20 in /Users/benho/miniforge3/envs/tise/lib/python3.8/site-packages (from matplotlib) (1.24.4)\n",
      "Requirement already satisfied: packaging>=20.0 in /Users/benho/miniforge3/envs/tise/lib/python3.8/site-packages (from matplotlib) (23.2)\n",
      "Requirement already satisfied: pillow>=6.2.0 in /Users/benho/miniforge3/envs/tise/lib/python3.8/site-packages (from matplotlib) (10.2.0)\n",
      "Requirement already satisfied: pyparsing>=2.3.1 in /Users/benho/miniforge3/envs/tise/lib/python3.8/site-packages (from matplotlib) (3.1.1)\n",
      "Requirement already satisfied: python-dateutil>=2.7 in /Users/benho/miniforge3/envs/tise/lib/python3.8/site-packages (from matplotlib) (2.8.2)\n",
      "Requirement already satisfied: importlib-resources>=3.2.0 in /Users/benho/miniforge3/envs/tise/lib/python3.8/site-packages (from matplotlib) (6.1.1)\n",
      "Requirement already satisfied: zipp>=3.1.0 in /Users/benho/miniforge3/envs/tise/lib/python3.8/site-packages (from importlib-resources>=3.2.0->matplotlib) (3.17.0)\n",
      "Requirement already satisfied: six>=1.5 in /Users/benho/miniforge3/envs/tise/lib/python3.8/site-packages (from python-dateutil>=2.7->matplotlib) (1.16.0)\n"
     ]
    }
   ],
   "source": [
    "!pip install pytesseract\n",
    "!pip install opencv-python\n",
    "!pip install matplotlib"
   ]
  },
  {
   "cell_type": "markdown",
   "metadata": {},
   "source": [
    "## Imports"
   ]
  },
  {
   "cell_type": "code",
   "execution_count": 2,
   "metadata": {},
   "outputs": [],
   "source": [
    "import os\n",
    "import numpy as np\n",
    "import matplotlib.pyplot as plt\n",
    "from PIL import Image\n",
    "\n",
    "import pytesseract\n",
    "import cv2\n",
    "\n"
   ]
  },
  {
   "cell_type": "markdown",
   "metadata": {},
   "source": [
    "## Load Files"
   ]
  },
  {
   "cell_type": "code",
   "execution_count": 3,
   "metadata": {},
   "outputs": [],
   "source": [
    "input_folder = \"sampleCaptchas/input/\"\n",
    "output_folder = \"sampleCaptchas/output/\"\n",
    "\n",
    "input_files = os.listdir(input_folder)\n",
    "input_files.sort()\n",
    "output_txts = os.listdir(output_folder)\n",
    "output_txts.sort()\n",
    "\n",
    "input_imgs = [i for i in input_files if os.path.splitext(i)[1]=='.jpg']\n",
    "input_txts = [i for i in input_files if i not in input_imgs]"
   ]
  },
  {
   "cell_type": "markdown",
   "metadata": {},
   "source": [
    "## Define Helper Functions\n",
    "#### 1. `adjust_contrast` performs the contrast adjustment and background removal based on a defined threshold\n",
    "#### 2. `rescale_image` rescales the image using a scale value\n",
    "#### 3. `hamming_distance` calculates the Hamming Distance for evaluation"
   ]
  },
  {
   "cell_type": "code",
   "execution_count": 6,
   "metadata": {},
   "outputs": [],
   "source": [
    "def adjust_contrast(img, t):\n",
    "    img = img * 0.5\n",
    "    img[img < t] = 0\n",
    "    img[img > t+1] = 255\n",
    "    return img\n",
    "\n",
    "def rescale_image(img, scale):\n",
    "    img = img.astype(np.uint8)\n",
    "    img = Image.fromarray(img)\n",
    "    length_x, width_y = img.size\n",
    "    size = int(length_x*scale), int(width_y*scale)\n",
    "    img = img.resize(size, Image.LANCZOS)\n",
    "    img = np.asarray(img)\n",
    "    return img\n",
    "\n",
    "def hamming_distance(str1, str2):\n",
    "    return sum(s1 != s2 for s1, s2 in zip(str1, str2))"
   ]
  },
  {
   "cell_type": "markdown",
   "metadata": {},
   "source": [
    "## Main Inference Code"
   ]
  },
  {
   "cell_type": "code",
   "execution_count": 37,
   "metadata": {},
   "outputs": [
    {
     "name": "stdout",
     "output_type": "stream",
     "text": [
      " EGYK4\n",
      "\n",
      "ARE33!\n",
      " GRC35\n",
      "\n",
      "ÉO5UI~\n",
      " 6O5W1\n",
      "\n",
      " J627C\n",
      "\n",
      " VLI2C\n",
      "\n",
      " O1R7Q\n",
      "\n",
      "AYTAP\n",
      " OYTAD\n",
      "\n",
      " ZRMQU\n",
      "\n",
      " N9DQS\n",
      "\n",
      " ZGJS3\n",
      "\n",
      " GZMBA\n",
      "\n",
      " J14DM\n",
      "\n",
      " PQ9AE\n",
      "\n",
      " VWZDO\n",
      "\n",
      " WGST7\n",
      "\n",
      "STIG?\n",
      " XKMS2\n",
      "\n",
      " 1D2KB\n",
      "\n",
      " 20BHQ\n",
      "\n",
      " OAH0V\n",
      "\n",
      " 5I8VE\n",
      "\n",
      " Z97ME\n",
      "\n",
      " CL69V\n",
      "\n",
      " HCE91\n",
      "\n",
      " WELXV\n",
      "\n",
      " UHVFO\n",
      "\n"
     ]
    },
    {
     "data": {
      "text/plain": [
       "{'word_level': [4],\n",
       " 'char_level': [15],\n",
       " 'word_level_percentage': [16.0],\n",
       " 'char_level_percentage': [12.0]}"
      ]
     },
     "execution_count": 37,
     "metadata": {},
     "output_type": "execute_result"
    }
   ],
   "source": [
    "error = {\"word_level\": [], \"char_level\": [], \"word_level_percentage\": [], \"char_level_percentage\": []}\n",
    "\n",
    "word_error = 0\n",
    "char_error = 0\n",
    "for idx, o in enumerate(output_txts):\n",
    "\n",
    "    i = input_txts[idx]\n",
    "    im_file = input_imgs[idx]\n",
    "\n",
    "    # Load the image\n",
    "    img = Image.open(input_folder + input_imgs[idx])\n",
    "    img = np.asarray(img)\n",
    "    \n",
    "    # rescale\n",
    "    img = rescale_image(img, 1.0)\n",
    "\n",
    "    # adjust contrast\n",
    "    img = adjust_contrast(img, 95)\n",
    "\n",
    "    # sharpen\n",
    "    kernel = np.array([[0, -1, 0],[-1, 7, -1],[0, -1, 0]])\n",
    "    img = cv2.filter2D(img, -1, kernel)\n",
    "    \n",
    "    img = img.astype(np.uint8)\n",
    "\n",
    "    # run ocr\n",
    "    answer = pytesseract.image_to_string(img)\n",
    "    answer = answer.upper()\n",
    "\n",
    "    # validate answer\n",
    "    with open(output_folder + o) as fp:\n",
    "        captcha = fp.read()\n",
    "\n",
    "    print(answer, captcha)\n",
    "            \n",
    "    # error\n",
    "    hd = hamming_distance(answer, captcha)\n",
    "\n",
    "    if hd != 0:\n",
    "        word_error += 1\n",
    "        char_error += hd\n",
    "error[\"word_level\"].append(word_error)\n",
    "error[\"char_level\"].append(char_error)\n",
    "error[\"word_level_percentage\"].append((word_error / len(input_imgs)) * 100)\n",
    "error[\"char_level_percentage\"].append((char_error / (len(input_imgs) * 5)) * 100)\n",
    "\n",
    "error"
   ]
  },
  {
   "cell_type": "markdown",
   "metadata": {},
   "source": [
    "## Evaluation Code"
   ]
  },
  {
   "cell_type": "markdown",
   "metadata": {},
   "source": [
    "#### Investigate Effects of Rescaling + Sharpening"
   ]
  },
  {
   "cell_type": "code",
   "execution_count": 19,
   "metadata": {},
   "outputs": [
    {
     "data": {
      "text/plain": [
       "{'scale': [0.6, 0.7, 0.8, 0.9, 1.0, 1.1, 1.2, 1.3, 1.4, 1.5],\n",
       " 'word_level': [15, 24, 20, 23, 13, 15, 17, 13, 16, 15],\n",
       " 'char_level': [46, 64, 62, 45, 19, 32, 33, 25, 27, 22],\n",
       " 'word_level_percentage': [60.0,\n",
       "  96.0,\n",
       "  80.0,\n",
       "  92.0,\n",
       "  52.0,\n",
       "  60.0,\n",
       "  68.0,\n",
       "  52.0,\n",
       "  64.0,\n",
       "  60.0],\n",
       " 'char_level_percentage': [36.8,\n",
       "  51.2,\n",
       "  49.6,\n",
       "  36.0,\n",
       "  15.2,\n",
       "  25.6,\n",
       "  26.400000000000002,\n",
       "  20.0,\n",
       "  21.6,\n",
       "  17.599999999999998]}"
      ]
     },
     "execution_count": 19,
     "metadata": {},
     "output_type": "execute_result"
    }
   ],
   "source": [
    "error = {\"scale\": [], \"word_level\": [], \"char_level\": [], \"word_level_percentage\": [], \"char_level_percentage\": []}\n",
    "for scale in [0.6, 0.7, 0.8, 0.9, 1.0, 1.1, 1.2, 1.3, 1.4, 1.5]:\n",
    "    error[\"scale\"].append(scale)\n",
    "    word_error = 0\n",
    "    char_error = 0\n",
    "    for idx, i in enumerate(input_imgs):\n",
    "      \n",
    "        img = Image.open(input_folder + i)\n",
    "        img = np.asarray(img)\n",
    "\n",
    "        # preprocess\n",
    "        img = rescale_image(img, scale)\n",
    "\n",
    "        # sharpen\n",
    "        kernel = np.array([[0, -1, 0],[-1, 7, -1],[0, -1, 0]])\n",
    "        img = cv2.filter2D(img, -1, kernel)\n",
    "\n",
    "        img = img.astype(np.uint8)\n",
    "\n",
    "        # run ocr\n",
    "        answer = pytesseract.image_to_string(img)\n",
    "        answer = answer.upper()\n",
    "\n",
    "        # validate answer\n",
    "        o = output_txts[idx]\n",
    "        with open(output_folder + o) as fp:\n",
    "            captcha = fp.read()\n",
    "            \n",
    "        # error\n",
    "        hd = hamming_distance(answer, captcha)\n",
    "\n",
    "        if hd != 0:\n",
    "            word_error += 1\n",
    "            char_error += hd\n",
    "            \n",
    "    error[\"word_level\"].append(word_error)\n",
    "    error[\"char_level\"].append(char_error)\n",
    "    error[\"word_level_percentage\"].append((word_error / len(input_imgs)) * 100)\n",
    "    error[\"char_level_percentage\"].append((char_error / (len(input_imgs) * 5)) * 100)\n",
    "\n",
    "error  "
   ]
  },
  {
   "cell_type": "code",
   "execution_count": 20,
   "metadata": {},
   "outputs": [
    {
     "data": {
      "text/plain": [
       "[<matplotlib.lines.Line2D at 0x14e3570d0>]"
      ]
     },
     "execution_count": 20,
     "metadata": {},
     "output_type": "execute_result"
    },
    {
     "data": {
      "image/png": "[encoded data removed]",
      "text/plain": [
       "<Figure size 640x480 with 1 Axes>"
      ]
     },
     "metadata": {},
     "output_type": "display_data"
    }
   ],
   "source": [
    "plt.plot(error[\"scale\"], error['word_level_percentage'])"
   ]
  },
  {
   "cell_type": "code",
   "execution_count": 21,
   "metadata": {},
   "outputs": [
    {
     "data": {
      "text/plain": [
       "[<matplotlib.lines.Line2D at 0x14e3c2dc0>]"
      ]
     },
     "execution_count": 21,
     "metadata": {},
     "output_type": "execute_result"
    },
    {
     "data": {
      "image/png": "[encoded data removed]",
      "text/plain": [
       "<Figure size 640x480 with 1 Axes>"
      ]
     },
     "metadata": {},
     "output_type": "display_data"
    }
   ],
   "source": [
    "plt.plot(error[\"scale\"], error['char_level_percentage'])"
   ]
  },
  {
   "cell_type": "markdown",
   "metadata": {},
   "source": [
    "#### Investigate Effects of Contrast Change"
   ]
  },
  {
   "cell_type": "code",
   "execution_count": 38,
   "metadata": {},
   "outputs": [
    {
     "data": {
      "text/plain": [
       "{'t': [10, 15, 20, 25, 30, 35, 40, 45, 50, 55, 60, 65, 70, 75, 80, 85],\n",
       " 'word_level': [13,\n",
       "  14,\n",
       "  14,\n",
       "  14,\n",
       "  14,\n",
       "  14,\n",
       "  14,\n",
       "  14,\n",
       "  14,\n",
       "  14,\n",
       "  14,\n",
       "  14,\n",
       "  14,\n",
       "  14,\n",
       "  14,\n",
       "  19],\n",
       " 'char_level': [29,\n",
       "  27,\n",
       "  27,\n",
       "  27,\n",
       "  27,\n",
       "  27,\n",
       "  27,\n",
       "  27,\n",
       "  27,\n",
       "  27,\n",
       "  27,\n",
       "  27,\n",
       "  27,\n",
       "  27,\n",
       "  23,\n",
       "  50],\n",
       " 'word_level_percentage': [52.0,\n",
       "  56.00000000000001,\n",
       "  56.00000000000001,\n",
       "  56.00000000000001,\n",
       "  56.00000000000001,\n",
       "  56.00000000000001,\n",
       "  56.00000000000001,\n",
       "  56.00000000000001,\n",
       "  56.00000000000001,\n",
       "  56.00000000000001,\n",
       "  56.00000000000001,\n",
       "  56.00000000000001,\n",
       "  56.00000000000001,\n",
       "  56.00000000000001,\n",
       "  56.00000000000001,\n",
       "  76.0],\n",
       " 'char_level_percentage': [23.200000000000003,\n",
       "  21.6,\n",
       "  21.6,\n",
       "  21.6,\n",
       "  21.6,\n",
       "  21.6,\n",
       "  21.6,\n",
       "  21.6,\n",
       "  21.6,\n",
       "  21.6,\n",
       "  21.6,\n",
       "  21.6,\n",
       "  21.6,\n",
       "  21.6,\n",
       "  18.4,\n",
       "  40.0]}"
      ]
     },
     "execution_count": 38,
     "metadata": {},
     "output_type": "execute_result"
    }
   ],
   "source": [
    "error = {\"t\": [], \"word_level\": [], \"char_level\": [], \"word_level_percentage\": [], \"char_level_percentage\": []}\n",
    "for t in range(10, 90, 5):\n",
    "    error[\"t\"].append(t)\n",
    "    word_error = 0\n",
    "    char_error = 0\n",
    "    for idx, i in enumerate(input_imgs):\n",
    "      \n",
    "        img = Image.open(input_folder + i)\n",
    "        img = np.asarray(img)\n",
    "\n",
    "        img = adjust_contrast(img, t)\n",
    "\n",
    "        # sharpen\n",
    "        kernel = np.array([[0, -1, 0],[-1, 7, -1],[0, -1, 0]])\n",
    "        img = cv2.filter2D(img, -1, kernel)\n",
    "\n",
    "        img = img.astype(np.uint8)\n",
    "\n",
    "        # run ocr\n",
    "        answer = pytesseract.image_to_string(img)\n",
    "        answer = answer.upper()\n",
    "\n",
    "        # validate answer\n",
    "        o = output_txts[idx]\n",
    "        with open(output_folder + o) as fp:\n",
    "            captcha = fp.read()\n",
    "            \n",
    "        # error\n",
    "        hd = hamming_distance(answer, captcha)\n",
    "\n",
    "        if hd != 0:\n",
    "            word_error += 1\n",
    "            char_error += hd\n",
    "            \n",
    "    error[\"word_level\"].append(word_error)\n",
    "    error[\"char_level\"].append(char_error)\n",
    "    error[\"word_level_percentage\"].append((word_error / len(input_imgs)) * 100)\n",
    "    error[\"char_level_percentage\"].append((char_error / (len(input_imgs) * 5)) * 100)\n",
    "\n",
    "error  "
   ]
  },
  {
   "cell_type": "code",
   "execution_count": 39,
   "metadata": {},
   "outputs": [
    {
     "data": {
      "text/plain": [
       "[<matplotlib.lines.Line2D at 0x14e7fbeb0>]"
      ]
     },
     "execution_count": 39,
     "metadata": {},
     "output_type": "execute_result"
    },
    {
     "data": {
      "image/png": "[encoded data removed]",
      "text/plain": [
       "<Figure size 640x480 with 1 Axes>"
      ]
     },
     "metadata": {},
     "output_type": "display_data"
    }
   ],
   "source": [
    "plt.plot(error[\"t\"], error['word_level_percentage'])"
   ]
  },
  {
   "cell_type": "code",
   "execution_count": 40,
   "metadata": {},
   "outputs": [
    {
     "data": {
      "text/plain": [
       "[<matplotlib.lines.Line2D at 0x14e86ee20>]"
      ]
     },
     "execution_count": 40,
     "metadata": {},
     "output_type": "execute_result"
    },
    {
     "data": {
      "image/png": "[encoded data removed]",
      "text/plain": [
       "<Figure size 640x480 with 1 Axes>"
      ]
     },
     "metadata": {},
     "output_type": "display_data"
    }
   ],
   "source": [
    "plt.plot(error[\"t\"], error['char_level_percentage'])"
   ]
  },
  {
   "cell_type": "markdown",
   "metadata": {},
   "source": [
    "### Visualise the Preprocessed Image"
   ]
  },
  {
   "cell_type": "code",
   "execution_count": 30,
   "metadata": {},
   "outputs": [
    {
     "name": "stderr",
     "output_type": "stream",
     "text": [
      "Clipping input data to the valid range for imshow with RGB data ([0..1] for floats or [0..255] for integers).\n"
     ]
    },
    {
     "data": {
      "text/plain": [
       "<matplotlib.image.AxesImage at 0x14e72f7f0>"
      ]
     },
     "execution_count": 30,
     "metadata": {},
     "output_type": "execute_result"
    },
    {
     "data": {
      "image/png": "[encoded data removed]",
      "text/plain": [
       "<Figure size 640x480 with 1 Axes>"
      ]
     },
     "metadata": {},
     "output_type": "display_data"
    }
   ],
   "source": [
    "idx = 0\n",
    "img = Image.open(input_folder + input_imgs[idx])\n",
    "img = np.asarray(img)\n",
    "# img = rescale_image(img, 0.5)\n",
    "\n",
    "# kernel = np.array([[0, -1, 0],[-1, 7, -1],[0, -1, 0]])\n",
    "# img = cv2.filter2D(img, -1, kernel)\n",
    "\n",
    "img = adjust_contrast(img, 80)\n",
    "\n",
    "\n",
    "plt.imshow(img)"
   ]
  },
  {
   "cell_type": "code",
   "execution_count": null,
   "metadata": {},
   "outputs": [],
   "source": []
  }
 ],
 "metadata": {
  "kernelspec": {
   "display_name": "agents",
   "language": "python",
   "name": "python3"
  },
  "language_info": {
   "codemirror_mode": {
    "name": "ipython",
    "version": 3
   },
   "file_extension": ".py",
   "mimetype": "text/x-python",
   "name": "python",
   "nbconvert_exporter": "python",
   "pygments_lexer": "ipython3",
   "version": "3.8.17"
  }
 },
 "nbformat": 4,
 "nbformat_minor": 2
}
